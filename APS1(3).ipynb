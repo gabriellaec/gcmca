{
 "cells": [
  {
   "cell_type": "markdown",
   "id": "6415846c",
   "metadata": {},
   "source": [
    "<font size = 6 color='indigo'>APS 1</font>"
   ]
  },
  {
   "cell_type": "markdown",
   "id": "58934e65",
   "metadata": {},
   "source": [
    "Gabriella Cukier e Manuel Castañares"
   ]
  },
  {
   "cell_type": "markdown",
   "id": "abb8cb4a",
   "metadata": {},
   "source": [
    "## Importando Bibliotecas"
   ]
  },
  {
   "cell_type": "code",
   "execution_count": 1,
   "id": "7f04553e",
   "metadata": {},
   "outputs": [
    {
     "data": {
      "text/html": [
       "\n",
       "    <script src=\"/files/netpixi.min.js\"></script>\n"
      ],
      "text/plain": [
       "<IPython.core.display.HTML object>"
      ]
     },
     "metadata": {},
     "output_type": "display_data"
    }
   ],
   "source": [
    "import pandas as pd\n",
    "from graph_tool import Graph\n",
    "import csv\n",
    "import netpixi\n",
    "from netpixi.data.gt import *"
   ]
  },
  {
   "cell_type": "markdown",
   "id": "9f165ee9",
   "metadata": {},
   "source": [
    "## Database"
   ]
  },
  {
   "cell_type": "code",
   "execution_count": 2,
   "id": "a26ab4b5",
   "metadata": {
    "scrolled": true
   },
   "outputs": [
    {
     "data": {
      "text/html": [
       "<div>\n",
       "<style scoped>\n",
       "    .dataframe tbody tr th:only-of-type {\n",
       "        vertical-align: middle;\n",
       "    }\n",
       "\n",
       "    .dataframe tbody tr th {\n",
       "        vertical-align: top;\n",
       "    }\n",
       "\n",
       "    .dataframe thead th {\n",
       "        text-align: right;\n",
       "    }\n",
       "</style>\n",
       "<table border=\"1\" class=\"dataframe\">\n",
       "  <thead>\n",
       "    <tr style=\"text-align: right;\">\n",
       "      <th></th>\n",
       "      <th>ATP</th>\n",
       "      <th>Tournament</th>\n",
       "      <th>Tournament_Int</th>\n",
       "      <th>Date</th>\n",
       "      <th>Series</th>\n",
       "      <th>Series_Int</th>\n",
       "      <th>Court</th>\n",
       "      <th>Court_Int</th>\n",
       "      <th>Surface</th>\n",
       "      <th>Surface_Int</th>\n",
       "      <th>...</th>\n",
       "      <th>Winner</th>\n",
       "      <th>Winner_Int</th>\n",
       "      <th>Player1</th>\n",
       "      <th>Player1_Int</th>\n",
       "      <th>Player2</th>\n",
       "      <th>Player2_Int</th>\n",
       "      <th>Player1_Rank</th>\n",
       "      <th>Player2_Rank</th>\n",
       "      <th>Player1_Odds</th>\n",
       "      <th>Player2_Odds</th>\n",
       "    </tr>\n",
       "  </thead>\n",
       "  <tbody>\n",
       "    <tr>\n",
       "      <th>0</th>\n",
       "      <td>1</td>\n",
       "      <td>BrisbaneInternational</td>\n",
       "      <td>1.2757</td>\n",
       "      <td>1/1/17</td>\n",
       "      <td>ATP250</td>\n",
       "      <td>2.9693</td>\n",
       "      <td>Outdoor</td>\n",
       "      <td>3.6494</td>\n",
       "      <td>Hard</td>\n",
       "      <td>4.4983</td>\n",
       "      <td>...</td>\n",
       "      <td>ThompsonJ.</td>\n",
       "      <td>6.7926</td>\n",
       "      <td>ThompsonJ.</td>\n",
       "      <td>6.7926</td>\n",
       "      <td>YmerE.</td>\n",
       "      <td>6.0375</td>\n",
       "      <td>79.0</td>\n",
       "      <td>160.0</td>\n",
       "      <td>1.29</td>\n",
       "      <td>3.50</td>\n",
       "    </tr>\n",
       "    <tr>\n",
       "      <th>1</th>\n",
       "      <td>1</td>\n",
       "      <td>BrisbaneInternational</td>\n",
       "      <td>1.2757</td>\n",
       "      <td>1/2/17</td>\n",
       "      <td>ATP250</td>\n",
       "      <td>2.9693</td>\n",
       "      <td>Outdoor</td>\n",
       "      <td>3.6494</td>\n",
       "      <td>Hard</td>\n",
       "      <td>4.4983</td>\n",
       "      <td>...</td>\n",
       "      <td>MahutN.</td>\n",
       "      <td>6.9297</td>\n",
       "      <td>MahutN.</td>\n",
       "      <td>6.9297</td>\n",
       "      <td>RobertS.</td>\n",
       "      <td>6.9152</td>\n",
       "      <td>39.0</td>\n",
       "      <td>54.0</td>\n",
       "      <td>1.54</td>\n",
       "      <td>2.43</td>\n",
       "    </tr>\n",
       "    <tr>\n",
       "      <th>2</th>\n",
       "      <td>1</td>\n",
       "      <td>BrisbaneInternational</td>\n",
       "      <td>1.2757</td>\n",
       "      <td>1/2/17</td>\n",
       "      <td>ATP250</td>\n",
       "      <td>2.9693</td>\n",
       "      <td>Outdoor</td>\n",
       "      <td>3.6494</td>\n",
       "      <td>Hard</td>\n",
       "      <td>4.4983</td>\n",
       "      <td>...</td>\n",
       "      <td>FerrerD.</td>\n",
       "      <td>6.3881</td>\n",
       "      <td>FerrerD.</td>\n",
       "      <td>6.3881</td>\n",
       "      <td>TomicB.</td>\n",
       "      <td>6.6345</td>\n",
       "      <td>21.0</td>\n",
       "      <td>26.0</td>\n",
       "      <td>2.01</td>\n",
       "      <td>1.77</td>\n",
       "    </tr>\n",
       "    <tr>\n",
       "      <th>3</th>\n",
       "      <td>1</td>\n",
       "      <td>BrisbaneInternational</td>\n",
       "      <td>1.2757</td>\n",
       "      <td>1/2/17</td>\n",
       "      <td>ATP250</td>\n",
       "      <td>2.9693</td>\n",
       "      <td>Outdoor</td>\n",
       "      <td>3.6494</td>\n",
       "      <td>Hard</td>\n",
       "      <td>4.4983</td>\n",
       "      <td>...</td>\n",
       "      <td>EdmundK.</td>\n",
       "      <td>6.8384</td>\n",
       "      <td>EdmundK.</td>\n",
       "      <td>6.8384</td>\n",
       "      <td>EscobedoE.</td>\n",
       "      <td>6.1645</td>\n",
       "      <td>45.0</td>\n",
       "      <td>141.0</td>\n",
       "      <td>1.37</td>\n",
       "      <td>3.01</td>\n",
       "    </tr>\n",
       "    <tr>\n",
       "      <th>4</th>\n",
       "      <td>1</td>\n",
       "      <td>BrisbaneInternational</td>\n",
       "      <td>1.2757</td>\n",
       "      <td>1/2/17</td>\n",
       "      <td>ATP250</td>\n",
       "      <td>2.9693</td>\n",
       "      <td>Outdoor</td>\n",
       "      <td>3.6494</td>\n",
       "      <td>Hard</td>\n",
       "      <td>4.4983</td>\n",
       "      <td>...</td>\n",
       "      <td>DimitrovG.</td>\n",
       "      <td>6.5157</td>\n",
       "      <td>DimitrovG.</td>\n",
       "      <td>6.5157</td>\n",
       "      <td>JohnsonS.</td>\n",
       "      <td>6.1087</td>\n",
       "      <td>17.0</td>\n",
       "      <td>33.0</td>\n",
       "      <td>1.41</td>\n",
       "      <td>2.85</td>\n",
       "    </tr>\n",
       "    <tr>\n",
       "      <th>...</th>\n",
       "      <td>...</td>\n",
       "      <td>...</td>\n",
       "      <td>...</td>\n",
       "      <td>...</td>\n",
       "      <td>...</td>\n",
       "      <td>...</td>\n",
       "      <td>...</td>\n",
       "      <td>...</td>\n",
       "      <td>...</td>\n",
       "      <td>...</td>\n",
       "      <td>...</td>\n",
       "      <td>...</td>\n",
       "      <td>...</td>\n",
       "      <td>...</td>\n",
       "      <td>...</td>\n",
       "      <td>...</td>\n",
       "      <td>...</td>\n",
       "      <td>...</td>\n",
       "      <td>...</td>\n",
       "      <td>...</td>\n",
       "      <td>...</td>\n",
       "    </tr>\n",
       "    <tr>\n",
       "      <th>14741</th>\n",
       "      <td>65</td>\n",
       "      <td>MastersCup</td>\n",
       "      <td>1.7532</td>\n",
       "      <td>11/10/12</td>\n",
       "      <td>MastersCup</td>\n",
       "      <td>2.7079</td>\n",
       "      <td>Indoor</td>\n",
       "      <td>3.2579</td>\n",
       "      <td>Hard</td>\n",
       "      <td>4.4983</td>\n",
       "      <td>...</td>\n",
       "      <td>DelPotroJ.M.</td>\n",
       "      <td>6.0310</td>\n",
       "      <td>DelPotroJ.M.</td>\n",
       "      <td>6.0310</td>\n",
       "      <td>FedererR.</td>\n",
       "      <td>6.7289</td>\n",
       "      <td>7.0</td>\n",
       "      <td>2.0</td>\n",
       "      <td>2.82</td>\n",
       "      <td>1.42</td>\n",
       "    </tr>\n",
       "    <tr>\n",
       "      <th>14742</th>\n",
       "      <td>65</td>\n",
       "      <td>MastersCup</td>\n",
       "      <td>1.7532</td>\n",
       "      <td>11/10/12</td>\n",
       "      <td>MastersCup</td>\n",
       "      <td>2.7079</td>\n",
       "      <td>Indoor</td>\n",
       "      <td>3.2579</td>\n",
       "      <td>Hard</td>\n",
       "      <td>4.4983</td>\n",
       "      <td>...</td>\n",
       "      <td>FerrerD.</td>\n",
       "      <td>6.3881</td>\n",
       "      <td>FerrerD.</td>\n",
       "      <td>6.3881</td>\n",
       "      <td>TipsarevicJ.</td>\n",
       "      <td>6.0563</td>\n",
       "      <td>5.0</td>\n",
       "      <td>9.0</td>\n",
       "      <td>1.20</td>\n",
       "      <td>4.55</td>\n",
       "    </tr>\n",
       "    <tr>\n",
       "      <th>14743</th>\n",
       "      <td>65</td>\n",
       "      <td>MastersCup</td>\n",
       "      <td>1.7532</td>\n",
       "      <td>11/11/12</td>\n",
       "      <td>MastersCup</td>\n",
       "      <td>2.7079</td>\n",
       "      <td>Indoor</td>\n",
       "      <td>3.2579</td>\n",
       "      <td>Hard</td>\n",
       "      <td>4.4983</td>\n",
       "      <td>...</td>\n",
       "      <td>DjokovicN.</td>\n",
       "      <td>6.9457</td>\n",
       "      <td>DjokovicN.</td>\n",
       "      <td>6.9457</td>\n",
       "      <td>DelPotroJ.M.</td>\n",
       "      <td>6.2204</td>\n",
       "      <td>1.0</td>\n",
       "      <td>7.0</td>\n",
       "      <td>1.22</td>\n",
       "      <td>4.28</td>\n",
       "    </tr>\n",
       "    <tr>\n",
       "      <th>14744</th>\n",
       "      <td>65</td>\n",
       "      <td>MastersCup</td>\n",
       "      <td>1.7532</td>\n",
       "      <td>11/11/12</td>\n",
       "      <td>MastersCup</td>\n",
       "      <td>2.7079</td>\n",
       "      <td>Indoor</td>\n",
       "      <td>3.2579</td>\n",
       "      <td>Hard</td>\n",
       "      <td>4.4983</td>\n",
       "      <td>...</td>\n",
       "      <td>FedererR.</td>\n",
       "      <td>6.9997</td>\n",
       "      <td>FedererR.</td>\n",
       "      <td>6.9997</td>\n",
       "      <td>MurrayA.</td>\n",
       "      <td>6.2109</td>\n",
       "      <td>2.0</td>\n",
       "      <td>3.0</td>\n",
       "      <td>2.16</td>\n",
       "      <td>1.68</td>\n",
       "    </tr>\n",
       "    <tr>\n",
       "      <th>14745</th>\n",
       "      <td>65</td>\n",
       "      <td>MastersCup</td>\n",
       "      <td>1.7532</td>\n",
       "      <td>11/12/12</td>\n",
       "      <td>MastersCup</td>\n",
       "      <td>2.7079</td>\n",
       "      <td>Indoor</td>\n",
       "      <td>3.2579</td>\n",
       "      <td>Hard</td>\n",
       "      <td>4.4983</td>\n",
       "      <td>...</td>\n",
       "      <td>DjokovicN.</td>\n",
       "      <td>6.9457</td>\n",
       "      <td>DjokovicN.</td>\n",
       "      <td>6.9457</td>\n",
       "      <td>FedererR.</td>\n",
       "      <td>6.7289</td>\n",
       "      <td>1.0</td>\n",
       "      <td>2.0</td>\n",
       "      <td>1.64</td>\n",
       "      <td>2.26</td>\n",
       "    </tr>\n",
       "  </tbody>\n",
       "</table>\n",
       "<p>14746 rows × 23 columns</p>\n",
       "</div>"
      ],
      "text/plain": [
       "       ATP             Tournament  Tournament_Int      Date      Series  \\\n",
       "0        1  BrisbaneInternational          1.2757    1/1/17      ATP250   \n",
       "1        1  BrisbaneInternational          1.2757    1/2/17      ATP250   \n",
       "2        1  BrisbaneInternational          1.2757    1/2/17      ATP250   \n",
       "3        1  BrisbaneInternational          1.2757    1/2/17      ATP250   \n",
       "4        1  BrisbaneInternational          1.2757    1/2/17      ATP250   \n",
       "...    ...                    ...             ...       ...         ...   \n",
       "14741   65             MastersCup          1.7532  11/10/12  MastersCup   \n",
       "14742   65             MastersCup          1.7532  11/10/12  MastersCup   \n",
       "14743   65             MastersCup          1.7532  11/11/12  MastersCup   \n",
       "14744   65             MastersCup          1.7532  11/11/12  MastersCup   \n",
       "14745   65             MastersCup          1.7532  11/12/12  MastersCup   \n",
       "\n",
       "       Series_Int    Court  Court_Int Surface  Surface_Int  ...        Winner  \\\n",
       "0          2.9693  Outdoor     3.6494    Hard       4.4983  ...    ThompsonJ.   \n",
       "1          2.9693  Outdoor     3.6494    Hard       4.4983  ...       MahutN.   \n",
       "2          2.9693  Outdoor     3.6494    Hard       4.4983  ...      FerrerD.   \n",
       "3          2.9693  Outdoor     3.6494    Hard       4.4983  ...      EdmundK.   \n",
       "4          2.9693  Outdoor     3.6494    Hard       4.4983  ...    DimitrovG.   \n",
       "...           ...      ...        ...     ...          ...  ...           ...   \n",
       "14741      2.7079   Indoor     3.2579    Hard       4.4983  ...  DelPotroJ.M.   \n",
       "14742      2.7079   Indoor     3.2579    Hard       4.4983  ...      FerrerD.   \n",
       "14743      2.7079   Indoor     3.2579    Hard       4.4983  ...    DjokovicN.   \n",
       "14744      2.7079   Indoor     3.2579    Hard       4.4983  ...     FedererR.   \n",
       "14745      2.7079   Indoor     3.2579    Hard       4.4983  ...    DjokovicN.   \n",
       "\n",
       "       Winner_Int       Player1 Player1_Int       Player2 Player2_Int  \\\n",
       "0          6.7926    ThompsonJ.      6.7926        YmerE.      6.0375   \n",
       "1          6.9297       MahutN.      6.9297      RobertS.      6.9152   \n",
       "2          6.3881      FerrerD.      6.3881       TomicB.      6.6345   \n",
       "3          6.8384      EdmundK.      6.8384    EscobedoE.      6.1645   \n",
       "4          6.5157    DimitrovG.      6.5157     JohnsonS.      6.1087   \n",
       "...           ...           ...         ...           ...         ...   \n",
       "14741      6.0310  DelPotroJ.M.      6.0310     FedererR.      6.7289   \n",
       "14742      6.3881      FerrerD.      6.3881  TipsarevicJ.      6.0563   \n",
       "14743      6.9457    DjokovicN.      6.9457  DelPotroJ.M.      6.2204   \n",
       "14744      6.9997     FedererR.      6.9997      MurrayA.      6.2109   \n",
       "14745      6.9457    DjokovicN.      6.9457     FedererR.      6.7289   \n",
       "\n",
       "       Player1_Rank Player2_Rank  Player1_Odds  Player2_Odds  \n",
       "0              79.0        160.0          1.29          3.50  \n",
       "1              39.0         54.0          1.54          2.43  \n",
       "2              21.0         26.0          2.01          1.77  \n",
       "3              45.0        141.0          1.37          3.01  \n",
       "4              17.0         33.0          1.41          2.85  \n",
       "...             ...          ...           ...           ...  \n",
       "14741           7.0          2.0          2.82          1.42  \n",
       "14742           5.0          9.0          1.20          4.55  \n",
       "14743           1.0          7.0          1.22          4.28  \n",
       "14744           2.0          3.0          2.16          1.68  \n",
       "14745           1.0          2.0          1.64          2.26  \n",
       "\n",
       "[14746 rows x 23 columns]"
      ]
     },
     "execution_count": 2,
     "metadata": {},
     "output_type": "execute_result"
    }
   ],
   "source": [
    "df = pd.read_csv('ATP Dataset_2012-01 to 2017-07_Int.csv')\n",
    "df"
   ]
  },
  {
   "cell_type": "markdown",
   "id": "ff4809ea",
   "metadata": {},
   "source": [
    "## Criando uma rede baseada nesse dataset"
   ]
  },
  {
   "cell_type": "code",
   "execution_count": 29,
   "id": "1ec1cdbf",
   "metadata": {},
   "outputs": [],
   "source": [
    "g = Graph(directed=True) # grafo dirigido"
   ]
  },
  {
   "cell_type": "markdown",
   "id": "e687e6dc",
   "metadata": {},
   "source": [
    "O primeiro passo para separar os jogadores foi filtrar todas as partidas de 2015:"
   ]
  },
  {
   "cell_type": "code",
   "execution_count": 30,
   "id": "d84758db",
   "metadata": {},
   "outputs": [],
   "source": [
    "players2015=[]\n",
    "with open('ATP Dataset_2012-01 to 2017-07_Int.csv') as file:\n",
    "    reader = csv.reader(file, delimiter=',', quotechar='\"')\n",
    "    i = 0;\n",
    "    for row in reader:\n",
    "        i += 1\n",
    "        if row[3][-2:] == \"15\" :\n",
    "            players2015.append(row)"
   ]
  },
  {
   "cell_type": "code",
   "execution_count": 31,
   "id": "c9102bf7",
   "metadata": {},
   "outputs": [
    {
     "name": "stdout",
     "output_type": "stream",
     "text": [
      "Número de partidas em 2015: 2630\n"
     ]
    }
   ],
   "source": [
    "numeroPartidas = len(players2015)\n",
    "print(f\"Número de partidas em 2015: {numeroPartidas}\")"
   ]
  },
  {
   "cell_type": "markdown",
   "id": "448b7953",
   "metadata": {},
   "source": [
    "Em seguida, os jogadores que disputaram partidas em 2015 foram filtrados e um vértice foi criado para cada um, com um atributo que representa o nome do jogador respectivo:"
   ]
  },
  {
   "cell_type": "code",
   "execution_count": 32,
   "id": "e2532137",
   "metadata": {},
   "outputs": [],
   "source": [
    "def add_player(i,v,count,column):\n",
    "    g.add_vertex()\n",
    "    v = g.vertex(count)\n",
    "    lista_players.append(players2015[i][column])\n",
    "    g.vp['nome'][v] = players2015[i][column]\n",
    "    count+=1"
   ]
  },
  {
   "cell_type": "code",
   "execution_count": 33,
   "id": "59e56173",
   "metadata": {},
   "outputs": [
    {
     "name": "stdout",
     "output_type": "stream",
     "text": [
      "número de vértices de g: 284\n"
     ]
    }
   ],
   "source": [
    "lista_players = []\n",
    "count = 0\n",
    "g.vp['nome'] = g.new_vp('object')\n",
    "for i in range(numeroPartidas):\n",
    "    \n",
    "    if players2015[i][15] not in lista_players:\n",
    "        add_player(i,v,count,15)\n",
    "        \n",
    "    if players2015[i][17] not in lista_players:\n",
    "        add_player(i,v,count,17)\n",
    "            \n",
    "print('número de vértices de g:', g.num_vertices())"
   ]
  },
  {
   "cell_type": "markdown",
   "id": "375c06eb",
   "metadata": {},
   "source": [
    "Em seguida as arestas foram criadas, sendo que uma aresta(n,m) existe se n venceu m uma ou mais vezes em 2015. Além disso, foi definido que \n",
    "cada aresta deve ter um atributo que representa o número de vitórias em 2015.\n"
   ]
  },
  {
   "cell_type": "code",
   "execution_count": 7,
   "id": "590507b9",
   "metadata": {},
   "outputs": [
    {
     "name": "stdout",
     "output_type": "stream",
     "text": [
      "Número de arestas de g: 2312\n"
     ]
    }
   ],
   "source": [
    "jaForam = []\n",
    "g.ep['vitorias'] = g.new_ep('object')\n",
    "c=0\n",
    "for i in range(numeroPartidas):\n",
    "    \n",
    "    for j in  range(g.num_vertices()):\n",
    "        v = g.vertex(j)\n",
    "        if players2015[i][15] == g.vp['nome'][v]:\n",
    "            player1 = j\n",
    "        if players2015[i][17] == g.vp['nome'][v]:\n",
    "            player2 = j\n",
    "        \n",
    "    if players2015[i][15] == players2015[i][13]: #se o Player1 for o vencedor\n",
    "        tupla = (player1, player2)\n",
    "        if tupla not in jaForam:\n",
    "            g.add_edge(player1, player2)\n",
    "            e = g.edge(player1, player2)\n",
    "            g.ep['vitorias'][e] = 1\n",
    "            jaForam.append(tupla)\n",
    "        else:\n",
    "            e = g.edge(player1, player2)\n",
    "            if g.ep['vitorias'][e]  is not None:\n",
    "                g.ep['vitorias'][e] += 1\n",
    "                c+=1\n",
    "    else:\n",
    "        tupla = (player2, player1)\n",
    "        if tupla not in jaForam:\n",
    "            g.add_edge(player2, player1)\n",
    "            e = g.edge(player2, player1)\n",
    "            g.ep['vitorias'][e] = 1\n",
    "            jaForam.append(tupla)\n",
    "        else:\n",
    "            e = g.edge(player2, player1)\n",
    "            if g.ep['vitorias'][e]  is not None:\n",
    "                g.ep['vitorias'][e] += 1\n",
    "                c+=1\n",
    "  \n",
    "print('Número de arestas de g:', g.num_edges())"
   ]
  },
  {
   "cell_type": "markdown",
   "id": "eb348609",
   "metadata": {},
   "source": [
    "## Análise exploratória do grafo"
   ]
  },
  {
   "cell_type": "markdown",
   "id": "cf6497a7",
   "metadata": {},
   "source": [
    "### Número de vértices"
   ]
  },
  {
   "cell_type": "code",
   "execution_count": 8,
   "id": "9f778234",
   "metadata": {},
   "outputs": [
    {
     "data": {
      "text/plain": [
       "284"
      ]
     },
     "execution_count": 8,
     "metadata": {},
     "output_type": "execute_result"
    }
   ],
   "source": [
    "n = g.num_vertices()\n",
    "n"
   ]
  },
  {
   "cell_type": "markdown",
   "id": "4a32fee9",
   "metadata": {},
   "source": [
    "### Número de arestas"
   ]
  },
  {
   "cell_type": "code",
   "execution_count": 9,
   "id": "ba20d0d4",
   "metadata": {},
   "outputs": [
    {
     "data": {
      "text/plain": [
       "2312"
      ]
     },
     "execution_count": 9,
     "metadata": {},
     "output_type": "execute_result"
    }
   ],
   "source": [
    "m = g.num_edges()\n",
    "m"
   ]
  },
  {
   "cell_type": "markdown",
   "id": "fd4e0231",
   "metadata": {},
   "source": [
    "### Máximo possível de arestas"
   ]
  },
  {
   "cell_type": "code",
   "execution_count": 10,
   "id": "8fe51e34",
   "metadata": {},
   "outputs": [
    {
     "data": {
      "text/plain": [
       "80372"
      ]
     },
     "execution_count": 10,
     "metadata": {},
     "output_type": "execute_result"
    }
   ],
   "source": [
    "max_edges = n * (n - 1) # Pois o grafo é dirigido\n",
    "max_edges"
   ]
  },
  {
   "cell_type": "markdown",
   "id": "a042b6f7",
   "metadata": {},
   "source": [
    "### Densidade"
   ]
  },
  {
   "cell_type": "code",
   "execution_count": 11,
   "id": "9a9fe7da",
   "metadata": {},
   "outputs": [
    {
     "data": {
      "text/plain": [
       "0.02876623699795949"
      ]
     },
     "execution_count": 11,
     "metadata": {},
     "output_type": "execute_result"
    }
   ],
   "source": [
    "d = m / max_edges\n",
    "d"
   ]
  },
  {
   "cell_type": "markdown",
   "id": "e71be5d1",
   "metadata": {},
   "source": [
    "### Propriedades dos vértices\n"
   ]
  },
  {
   "cell_type": "code",
   "execution_count": 12,
   "id": "d6c423ec",
   "metadata": {},
   "outputs": [
    {
     "data": {
      "text/html": [
       "<div>\n",
       "<style scoped>\n",
       "    .dataframe tbody tr th:only-of-type {\n",
       "        vertical-align: middle;\n",
       "    }\n",
       "\n",
       "    .dataframe tbody tr th {\n",
       "        vertical-align: top;\n",
       "    }\n",
       "\n",
       "    .dataframe thead th {\n",
       "        text-align: right;\n",
       "    }\n",
       "</style>\n",
       "<table border=\"1\" class=\"dataframe\">\n",
       "  <thead>\n",
       "    <tr style=\"text-align: right;\">\n",
       "      <th></th>\n",
       "      <th>nome</th>\n",
       "    </tr>\n",
       "  </thead>\n",
       "  <tbody>\n",
       "    <tr>\n",
       "      <th>0</th>\n",
       "      <td>DuckworthJ.</td>\n",
       "    </tr>\n",
       "    <tr>\n",
       "      <th>1</th>\n",
       "      <td>SimonG.</td>\n",
       "    </tr>\n",
       "    <tr>\n",
       "      <th>2</th>\n",
       "      <td>KokkinakisT.</td>\n",
       "    </tr>\n",
       "    <tr>\n",
       "      <th>3</th>\n",
       "      <td>BenneteauJ.</td>\n",
       "    </tr>\n",
       "    <tr>\n",
       "      <th>4</th>\n",
       "      <td>ChardyJ.</td>\n",
       "    </tr>\n",
       "    <tr>\n",
       "      <th>...</th>\n",
       "      <td>...</td>\n",
       "    </tr>\n",
       "    <tr>\n",
       "      <th>279</th>\n",
       "      <td>ZhangZh.</td>\n",
       "    </tr>\n",
       "    <tr>\n",
       "      <th>280</th>\n",
       "      <td>KaratsevA.</td>\n",
       "    </tr>\n",
       "    <tr>\n",
       "      <th>281</th>\n",
       "      <td>YmerM.</td>\n",
       "    </tr>\n",
       "    <tr>\n",
       "      <th>282</th>\n",
       "      <td>MiedlerL.</td>\n",
       "    </tr>\n",
       "    <tr>\n",
       "      <th>283</th>\n",
       "      <td>BrandsD.</td>\n",
       "    </tr>\n",
       "  </tbody>\n",
       "</table>\n",
       "<p>284 rows × 1 columns</p>\n",
       "</div>"
      ],
      "text/plain": [
       "             nome\n",
       "0     DuckworthJ.\n",
       "1         SimonG.\n",
       "2    KokkinakisT.\n",
       "3     BenneteauJ.\n",
       "4        ChardyJ.\n",
       "..            ...\n",
       "279      ZhangZh.\n",
       "280    KaratsevA.\n",
       "281        YmerM.\n",
       "282     MiedlerL.\n",
       "283      BrandsD.\n",
       "\n",
       "[284 rows x 1 columns]"
      ]
     },
     "execution_count": 12,
     "metadata": {},
     "output_type": "execute_result"
    }
   ],
   "source": [
    "df = pd.DataFrame({k: list(v) for k, v in g.vp.items()})\n",
    "df"
   ]
  },
  {
   "cell_type": "markdown",
   "id": "58027d32",
   "metadata": {},
   "source": [
    "### Degrees"
   ]
  },
  {
   "cell_type": "code",
   "execution_count": 13,
   "id": "b23567c4",
   "metadata": {},
   "outputs": [],
   "source": [
    "in_degrees = []\n",
    "for v in g.vertices():\n",
    "    in_degrees.append(v.in_degree())\n",
    "\n",
    "out_degrees = []\n",
    "for v in g.vertices():\n",
    "    out_degrees.append(v.out_degree())\n",
    "\n",
    "degrees = []\n",
    "for indeg, outdeg in zip(in_degrees, out_degrees):\n",
    "    degrees.append(indeg + outdeg)"
   ]
  },
  {
   "cell_type": "code",
   "execution_count": 14,
   "id": "550e975e",
   "metadata": {},
   "outputs": [
    {
     "data": {
      "text/html": [
       "<div>\n",
       "<style scoped>\n",
       "    .dataframe tbody tr th:only-of-type {\n",
       "        vertical-align: middle;\n",
       "    }\n",
       "\n",
       "    .dataframe tbody tr th {\n",
       "        vertical-align: top;\n",
       "    }\n",
       "\n",
       "    .dataframe thead th {\n",
       "        text-align: right;\n",
       "    }\n",
       "</style>\n",
       "<table border=\"1\" class=\"dataframe\">\n",
       "  <thead>\n",
       "    <tr style=\"text-align: right;\">\n",
       "      <th></th>\n",
       "      <th>nome</th>\n",
       "      <th>degree</th>\n",
       "      <th>in_degrees</th>\n",
       "      <th>out_degrees</th>\n",
       "    </tr>\n",
       "  </thead>\n",
       "  <tbody>\n",
       "    <tr>\n",
       "      <th>0</th>\n",
       "      <td>DuckworthJ.</td>\n",
       "      <td>19</td>\n",
       "      <td>10</td>\n",
       "      <td>9</td>\n",
       "    </tr>\n",
       "    <tr>\n",
       "      <th>1</th>\n",
       "      <td>SimonG.</td>\n",
       "      <td>52</td>\n",
       "      <td>19</td>\n",
       "      <td>33</td>\n",
       "    </tr>\n",
       "    <tr>\n",
       "      <th>2</th>\n",
       "      <td>KokkinakisT.</td>\n",
       "      <td>25</td>\n",
       "      <td>14</td>\n",
       "      <td>11</td>\n",
       "    </tr>\n",
       "    <tr>\n",
       "      <th>3</th>\n",
       "      <td>BenneteauJ.</td>\n",
       "      <td>6</td>\n",
       "      <td>5</td>\n",
       "      <td>1</td>\n",
       "    </tr>\n",
       "    <tr>\n",
       "      <th>4</th>\n",
       "      <td>ChardyJ.</td>\n",
       "      <td>49</td>\n",
       "      <td>23</td>\n",
       "      <td>26</td>\n",
       "    </tr>\n",
       "    <tr>\n",
       "      <th>...</th>\n",
       "      <td>...</td>\n",
       "      <td>...</td>\n",
       "      <td>...</td>\n",
       "      <td>...</td>\n",
       "    </tr>\n",
       "    <tr>\n",
       "      <th>279</th>\n",
       "      <td>ZhangZh.</td>\n",
       "      <td>2</td>\n",
       "      <td>1</td>\n",
       "      <td>1</td>\n",
       "    </tr>\n",
       "    <tr>\n",
       "      <th>280</th>\n",
       "      <td>KaratsevA.</td>\n",
       "      <td>2</td>\n",
       "      <td>1</td>\n",
       "      <td>1</td>\n",
       "    </tr>\n",
       "    <tr>\n",
       "      <th>281</th>\n",
       "      <td>YmerM.</td>\n",
       "      <td>1</td>\n",
       "      <td>1</td>\n",
       "      <td>0</td>\n",
       "    </tr>\n",
       "    <tr>\n",
       "      <th>282</th>\n",
       "      <td>MiedlerL.</td>\n",
       "      <td>1</td>\n",
       "      <td>1</td>\n",
       "      <td>0</td>\n",
       "    </tr>\n",
       "    <tr>\n",
       "      <th>283</th>\n",
       "      <td>BrandsD.</td>\n",
       "      <td>3</td>\n",
       "      <td>1</td>\n",
       "      <td>2</td>\n",
       "    </tr>\n",
       "  </tbody>\n",
       "</table>\n",
       "<p>284 rows × 4 columns</p>\n",
       "</div>"
      ],
      "text/plain": [
       "             nome  degree  in_degrees  out_degrees\n",
       "0     DuckworthJ.      19          10            9\n",
       "1         SimonG.      52          19           33\n",
       "2    KokkinakisT.      25          14           11\n",
       "3     BenneteauJ.       6           5            1\n",
       "4        ChardyJ.      49          23           26\n",
       "..            ...     ...         ...          ...\n",
       "279      ZhangZh.       2           1            1\n",
       "280    KaratsevA.       2           1            1\n",
       "281        YmerM.       1           1            0\n",
       "282     MiedlerL.       1           1            0\n",
       "283      BrandsD.       3           1            2\n",
       "\n",
       "[284 rows x 4 columns]"
      ]
     },
     "execution_count": 14,
     "metadata": {},
     "output_type": "execute_result"
    }
   ],
   "source": [
    "df['degree'] = degrees\n",
    "df['in_degrees'] = in_degrees\n",
    "df['out_degrees'] = out_degrees\n",
    "df"
   ]
  },
  {
   "cell_type": "markdown",
   "id": "d8d1c7b0",
   "metadata": {},
   "source": [
    "### Estatística e histograma do in-degree"
   ]
  },
  {
   "cell_type": "code",
   "execution_count": 15,
   "id": "12038fe4",
   "metadata": {
    "scrolled": true
   },
   "outputs": [
    {
     "data": {
      "text/plain": [
       "count    284.000000\n",
       "mean       8.140845\n",
       "std        7.639947\n",
       "min        1.000000\n",
       "25%        1.000000\n",
       "50%        5.000000\n",
       "75%       14.000000\n",
       "max       25.000000\n",
       "Name: in_degrees, dtype: float64"
      ]
     },
     "execution_count": 15,
     "metadata": {},
     "output_type": "execute_result"
    },
    {
     "data": {
      "image/png": "[encoded data removed]",
      "text/plain": [
       "<Figure size 432x288 with 1 Axes>"
      ]
     },
     "metadata": {
      "needs_background": "light"
     },
     "output_type": "display_data"
    }
   ],
   "source": [
    "df['in_degrees'].hist(bins=range(n))\n",
    "df['in_degrees'].describe()"
   ]
  },
  {
   "cell_type": "markdown",
   "id": "652208a2",
   "metadata": {},
   "source": [
    "### Estatística e histograma do out-degree"
   ]
  },
  {
   "cell_type": "code",
   "execution_count": 16,
   "id": "21d1dc0a",
   "metadata": {
    "scrolled": true
   },
   "outputs": [
    {
     "data": {
      "text/plain": [
       "count    284.000000\n",
       "mean       8.140845\n",
       "std       11.417606\n",
       "min        0.000000\n",
       "25%        0.000000\n",
       "50%        2.000000\n",
       "75%       13.250000\n",
       "max       47.000000\n",
       "Name: out_degrees, dtype: float64"
      ]
     },
     "execution_count": 16,
     "metadata": {},
     "output_type": "execute_result"
    },
    {
     "data": {
      "image/png": "[encoded data removed]",
      "text/plain": [
       "<Figure size 432x288 with 1 Axes>"
      ]
     },
     "metadata": {
      "needs_background": "light"
     },
     "output_type": "display_data"
    }
   ],
   "source": [
    "df['out_degrees'].hist(bins=range(n))\n",
    "df['out_degrees'].describe()"
   ]
  },
  {
   "cell_type": "markdown",
   "id": "f5f6cbde",
   "metadata": {},
   "source": [
    "### Estatística e histograma do degree"
   ]
  },
  {
   "cell_type": "code",
   "execution_count": 17,
   "id": "1b49bd97",
   "metadata": {
    "scrolled": false
   },
   "outputs": [
    {
     "data": {
      "text/plain": [
       "count    284.000000\n",
       "mean      16.281690\n",
       "std       17.911587\n",
       "min        1.000000\n",
       "25%        2.000000\n",
       "50%        6.500000\n",
       "75%       31.250000\n",
       "max       61.000000\n",
       "Name: degree, dtype: float64"
      ]
     },
     "execution_count": 17,
     "metadata": {},
     "output_type": "execute_result"
    },
    {
     "data": {
      "image/png": "[encoded data removed]",
      "text/plain": [
       "<Figure size 432x288 with 1 Axes>"
      ]
     },
     "metadata": {
      "needs_background": "light"
     },
     "output_type": "display_data"
    }
   ],
   "source": [
    "df['degree'].hist(bins=range(n))\n",
    "df['degree'].describe()"
   ]
  },
  {
   "cell_type": "markdown",
   "id": "84a701ae",
   "metadata": {},
   "source": [
    "## Análise visual do grafo"
   ]
  },
  {
   "cell_type": "markdown",
   "id": "3dc3fd58",
   "metadata": {},
   "source": [
    "### Salvando o grafo em um arquivo"
   ]
  },
  {
   "cell_type": "code",
   "execution_count": 18,
   "id": "0a5cef66",
   "metadata": {},
   "outputs": [],
   "source": [
    "save_gt(g, '../grafo.net.gz')"
   ]
  },
  {
   "cell_type": "markdown",
   "id": "b13b1c22",
   "metadata": {},
   "source": [
    "### Abrindo uma visualização a partir do arquivo"
   ]
  },
  {
   "cell_type": "markdown",
   "id": "300007cb",
   "metadata": {},
   "source": [
    "### Fazendo a visualização mostrar os nomes dos jogadores"
   ]
  },
  {
   "cell_type": "code",
   "execution_count": 19,
   "id": "04e27ce4",
   "metadata": {},
   "outputs": [],
   "source": [
    "# Posicionando os vértices de acordo com um algoritmo \n",
    "#baseado em force-directed graph drawing, \n",
    "#para evidenciar “panelinhas”\n",
    "\n",
    "g = load_gt('../grafo.net.gz')\n",
    "m = draw_gt.sfdp_layout(g)\n",
    "move_gt(g, m)\n",
    "save_gt(g, 'grafo.net.gz')"
   ]
  },
  {
   "cell_type": "code",
   "execution_count": 20,
   "id": "367b3f8f",
   "metadata": {
    "scrolled": true
   },
   "outputs": [
    {
     "data": {
      "text/html": [
       "\n",
       "        <div id=\"ZZBoLJaQBNVMxrqRabTFMq\"></div>\n",
       "        <script>netpixi.render('ZZBoLJaQBNVMxrqRabTFMq', 'grafo.net.gz', 1.7777777777777777, true, false, false);</script>\n",
       "    "
      ],
      "text/plain": [
       "<IPython.core.display.HTML object>"
      ]
     },
     "metadata": {},
     "output_type": "display_data"
    }
   ],
   "source": [
    "r = netpixi.render('grafo.net.gz')"
   ]
  },
  {
   "cell_type": "code",
   "execution_count": 34,
   "id": "503037e7",
   "metadata": {},
   "outputs": [
    {
     "data": {
      "text/html": [
       "\n",
       "        <div id=\"UA8gwP8BjeKV58dST3mK68\"></div>\n",
       "        <script>netpixi.call('UA8gwP8BjeKV58dST3mK68', 'ZZBoLJaQBNVMxrqRabTFMq', 'changeGraph', 'eyJ0eXBlIjogInNldHRpbmdzIiwgInByb3BzIjogeyJncmFwaCI6IHsiY29sb3IiOiAxNjc3NzIxNX19fQo=');</script>\n",
       "    "
      ],
      "text/plain": [
       "<IPython.core.display.HTML object>"
      ]
     },
     "metadata": {},
     "output_type": "display_data"
    },
    {
     "data": {
      "text/html": [
       "\n",
       "        <div id=\"k4TamwokPBRZheCCtQpvHN\"></div>\n",
       "        <script>netpixi.call('k4TamwokPBRZheCCtQpvHN', 'ZZBoLJaQBNVMxrqRabTFMq', 'changeGraph', 'eyJ0eXBlIjogInNldHRpbmdzIiwgInByb3BzIjogeyJ2ZXJ0ZXgiOiB7ImNvbG9yIjogMCwgInNpemUiOiA1fX19Cg==');</script>\n",
       "    "
      ],
      "text/plain": [
       "<IPython.core.display.HTML object>"
      ]
     },
     "metadata": {},
     "output_type": "display_data"
    },
    {
     "data": {
      "text/html": [
       "\n",
       "        <div id=\"gj23fuFUNYJeioo9F277ZB\"></div>\n",
       "        <script>netpixi.call('gj23fuFUNYJeioo9F277ZB', 'ZZBoLJaQBNVMxrqRabTFMq', 'changeGraph', 'eyJ0eXBlIjogInNldHRpbmdzIiwgInByb3BzIjogeyJlZGdlIjogeyJjb2xvciI6IDAsICJ3aWR0aCI6IDAuMSwgImN1cnZlMSI6IDAsICJjdXJ2ZTIiOiAwfX19Cg==');</script>\n",
       "    "
      ],
      "text/plain": [
       "<IPython.core.display.HTML object>"
      ]
     },
     "metadata": {},
     "output_type": "display_data"
    }
   ],
   "source": [
    "# mudar a cor de fundo do grafo\n",
    "r.graph(color=0xffffff)\n",
    "\n",
    "# mudar a cor e o tamanho dos vértices\n",
    "r.vertex_default(color=0x000000, size=5)\n",
    "\n",
    "# mudar a cor, a espessura e a curvatura das arestas\n",
    "r.edge_default(color=0x000000, width=0.1, curve1=0, curve2=0)"
   ]
  },
  {
   "cell_type": "code",
   "execution_count": 35,
   "id": "38ea587b",
   "metadata": {},
   "outputs": [
    {
     "data": {
      "text/html": [
       "\n",
       "        <div id=\"WpPccFXGwcHeBqinxjJabL\"></div>\n",
       "        <script>netpixi.call('WpPccFXGwcHeBqinxjJabL', 'ZZBoLJaQBNVMxrqRabTFMq', 'setGraph', 'eyJ0eXBlIjogInZlcnRleCIsICJwcm9wcyI6IHsic3JjIjogIm5vbWUiLCAiZHN0IjogIl9rZXkifX0K');</script>\n",
       "    "
      ],
      "text/plain": [
       "<IPython.core.display.HTML object>"
      ]
     },
     "metadata": {},
     "output_type": "display_data"
    }
   ],
   "source": [
    "r.vertex_set_key('nome')  # para mostrar os nomes dos jogadores"
   ]
  },
  {
   "cell_type": "code",
   "execution_count": 36,
   "id": "779e5cc7",
   "metadata": {
    "scrolled": true
   },
   "outputs": [
    {
     "name": "stdout",
     "output_type": "stream",
     "text": [
      "GRAPH\n",
      "    directed: bool\n",
      "VERTEX\n",
      "    nome: str\n",
      "EDGE\n",
      "    vitorias: int\n"
     ]
    }
   ],
   "source": [
    "netpixi.peek('grafo.net.gz')"
   ]
  },
  {
   "cell_type": "code",
   "execution_count": 24,
   "id": "8f30bf82",
   "metadata": {},
   "outputs": [],
   "source": [
    "save_gt(g, 'exemplo.net.gz')"
   ]
  }
 ],
 "metadata": {
  "kernelspec": {
   "display_name": "Python 3 (ipykernel)",
   "language": "python",
   "name": "python3"
  },
  "language_info": {
   "codemirror_mode": {
    "name": "ipython",
    "version": 3
   },
   "file_extension": ".py",
   "mimetype": "text/x-python",
   "name": "python",
   "nbconvert_exporter": "python",
   "pygments_lexer": "ipython3",
   "version": "3.7.11"
  }
 },
 "nbformat": 4,
 "nbformat_minor": 5
}
